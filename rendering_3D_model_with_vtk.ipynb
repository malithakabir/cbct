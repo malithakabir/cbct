{
 "cells": [
  {
   "cell_type": "code",
   "execution_count": 1,
   "metadata": {},
   "outputs": [],
   "source": [
    "import os\n",
    "import vtk"
   ]
  },
  {
   "cell_type": "markdown",
   "metadata": {},
   "source": [
    "set the dicom directory"
   ]
  },
  {
   "cell_type": "code",
   "execution_count": 2,
   "metadata": {},
   "outputs": [],
   "source": [
    "fileDir = './CBCT_files/'"
   ]
  },
  {
   "cell_type": "markdown",
   "metadata": {},
   "source": [
    "see list of files in directory"
   ]
  },
  {
   "cell_type": "code",
   "execution_count": 3,
   "metadata": {},
   "outputs": [
    {
     "name": "stdout",
     "output_type": "stream",
     "text": [
      "number of dcm files : 349\n"
     ]
    }
   ],
   "source": [
    "print('number of dcm files : ' + str(len(os.listdir(fileDir))))"
   ]
  },
  {
   "cell_type": "code",
   "execution_count": 4,
   "metadata": {},
   "outputs": [],
   "source": [
    "reader = vtk.vtkDICOMImageReader();\n",
    "reader.SetDirectoryName(fileDir)\n",
    "reader.Update()"
   ]
  },
  {
   "cell_type": "code",
   "execution_count": 5,
   "metadata": {},
   "outputs": [],
   "source": [
    "threshold = vtk.vtkImageThreshold()\n",
    "threshold.SetInputConnection(reader.GetOutputPort())\n",
    "#threshold.ThresholdByLower(50)  # remove all soft tissue # Not used here\n",
    "threshold.ThresholdBetween(400,1000)\n",
    "threshold.ReplaceInOn()\n",
    "threshold.SetInValue(0)  # set all values below 400 to 0\n",
    "threshold.ReplaceOutOn()\n",
    "threshold.SetOutValue(1)  # set all values above 400 to 1\n",
    "threshold.Update()"
   ]
  },
  {
   "cell_type": "code",
   "execution_count": 6,
   "metadata": {},
   "outputs": [],
   "source": [
    "boneExtractor = vtk.vtkMarchingCubes();\n",
    "boneExtractor.ComputeScalarsOff();\n",
    "boneExtractor.SetInputConnection(threshold.GetOutputPort());\n",
    "#skinExtractor.SetValue(1, 80);\n",
    "boneExtractor.GenerateValues(1, 1, 1)\n",
    "boneExtractor.Update();"
   ]
  },
  {
   "cell_type": "code",
   "execution_count": 7,
   "metadata": {},
   "outputs": [],
   "source": [
    "smoother = vtk.vtkSmoothPolyDataFilter();\n",
    "smoother.SetInputConnection(boneExtractor.GetOutputPort());\n",
    "smoother.SetNumberOfIterations(10);\n",
    "smoother.SetRelaxationFactor(0.1);\n",
    "smoother.SetFeatureAngle(1);\n",
    "smoother.FeatureEdgeSmoothingOff();\n",
    "smoother.BoundarySmoothingOn();\n",
    "smoother.SetConvergence(0);\n",
    "smoother.Update();"
   ]
  },
  {
   "cell_type": "code",
   "execution_count": 8,
   "metadata": {},
   "outputs": [],
   "source": [
    "decimate = vtk.vtkDecimatePro();\n",
    "decimate.SplittingOff();\n",
    "decimate.SetErrorIsAbsolute(5);\n",
    "decimate.SetFeatureAngle(1);\n",
    "decimate.PreserveTopologyOn();\n",
    "decimate.BoundaryVertexDeletionOff();\n",
    "decimate.SetDegree(1); \n",
    "decimate.SetInputData(smoother.GetOutput()); \n",
    "decimate.SetTargetReduction(0.10);\n",
    "decimate.SetMaximumError(0.001);\n",
    "decimate.Update();"
   ]
  },
  {
   "cell_type": "code",
   "execution_count": 9,
   "metadata": {},
   "outputs": [],
   "source": [
    "normalsGenerator = vtk.vtkPolyDataNormals();\n",
    "normalsGenerator.SetInputData(decimate.GetOutput());\n",
    "normalsGenerator.FlipNormalsOn();\n",
    "normalsGenerator.Update();"
   ]
  },
  {
   "cell_type": "code",
   "execution_count": 10,
   "metadata": {},
   "outputs": [],
   "source": [
    "cleanPolyDataFilter = vtk.vtkCleanPolyData();\n",
    "cleanPolyDataFilter.SetInputConnection(normalsGenerator.GetOutputPort());\n",
    "cleanPolyDataFilter.PieceInvariantOff();\n",
    "cleanPolyDataFilter.ConvertLinesToPointsOff();\n",
    "cleanPolyDataFilter.ConvertPolysToLinesOff();\n",
    "cleanPolyDataFilter.ConvertStripsToPolysOff();\n",
    "cleanPolyDataFilter.PointMergingOn();\n",
    "cleanPolyDataFilter.Update();"
   ]
  },
  {
   "cell_type": "code",
   "execution_count": 11,
   "metadata": {},
   "outputs": [],
   "source": [
    "connectivityFilter = vtk.vtkPolyDataConnectivityFilter();\n",
    "connectivityFilter.SetInputConnection(cleanPolyDataFilter.GetOutputPort());\n",
    "connectivityFilter.ScalarConnectivityOff();\n",
    "connectivityFilter.SetExtractionModeToLargestRegion();\n",
    "connectivityFilter.Update();"
   ]
  },
  {
   "cell_type": "code",
   "execution_count": 12,
   "metadata": {},
   "outputs": [],
   "source": [
    "mesh = connectivityFilter.GetOutput()"
   ]
  },
  {
   "cell_type": "code",
   "execution_count": 13,
   "metadata": {},
   "outputs": [],
   "source": [
    "renderWindow = vtk.vtkRenderWindow();\n",
    "renderer = vtk.vtkRenderer();\n",
    "interactorStyle = vtk.vtkInteractorStyleTrackballCamera();\n",
    "renderWindowInteractor = vtk.vtkRenderWindowInteractor();\n",
    "\n",
    "renderWindow.AddRenderer(renderer);\n",
    "renderWindow.SetSize(512*2,316*2);\n",
    "renderWindowInteractor.SetInteractorStyle(interactorStyle);\n",
    "renderWindowInteractor.SetRenderWindow(renderWindow);"
   ]
  },
  {
   "cell_type": "code",
   "execution_count": 14,
   "metadata": {},
   "outputs": [],
   "source": [
    "mapper = vtk.vtkPolyDataMapper();\n",
    "mapper.SetInputData(mesh);\n",
    "actor = vtk.vtkActor();\n",
    "actor.SetMapper(mapper);\n",
    "actor.GetProperty().SetColor(1.0, 0.0, 0.0);\n",
    "renderer.AddActor(actor);"
   ]
  },
  {
   "cell_type": "code",
   "execution_count": 15,
   "metadata": {},
   "outputs": [],
   "source": [
    "renderer.SetBackground(0,0,0);\n",
    "renderer.ResetCamera();\n",
    "#renderer.GetActiveCamera().SetPosition(-469.4609169617528, 120.71326606030519, 58.537364440710505)\n",
    "#(-469.4609169617528, 120.71326606030519, 58.537364440710505) # for right pelvis\n",
    "renderer.GetActiveCamera().SetViewAngle(30)\n",
    "#30.0 # for right pelvis\n",
    "renderWindow.Render();\n",
    "\n",
    "# # screenshot capture code: (not used here though)\n",
    "# w2if = vtk.vtkWindowToImageFilter()\n",
    "# w2if.SetInput(renderWindow)\n",
    "# w2if.Update()\n",
    " \n",
    "# writer = vtk.vtkPNGWriter()\n",
    "# writer.SetFileName(fileDir.split('/')[5]+'.png')\n",
    "# writer.SetInputData(w2if.GetOutput())\n",
    "# writer.Write()\n",
    "\n",
    "renderWindowInteractor.Start();"
   ]
  },
  {
   "cell_type": "markdown",
   "metadata": {
    "collapsed": true
   },
   "source": [
    "For writing stl file"
   ]
  },
  {
   "cell_type": "code",
   "execution_count": 16,
   "metadata": {},
   "outputs": [],
   "source": [
    "#writer = vtk.vtkSTLWriter()\n",
    "#writer.SetInputData(mesh)\n",
    "#writer.SetFileTypeToBinary()\n",
    "#writer.SetFileName(\"pelvis_5mm.stl\")\n",
    "#writer.Write()"
   ]
  },
  {
   "cell_type": "code",
   "execution_count": null,
   "metadata": {},
   "outputs": [],
   "source": []
  }
 ],
 "metadata": {
  "kernelspec": {
   "display_name": "Python 3",
   "language": "python",
   "name": "python3"
  },
  "language_info": {
   "codemirror_mode": {
    "name": "ipython",
    "version": 3
   },
   "file_extension": ".py",
   "mimetype": "text/x-python",
   "name": "python",
   "nbconvert_exporter": "python",
   "pygments_lexer": "ipython3",
   "version": "3.6.4"
  }
 },
 "nbformat": 4,
 "nbformat_minor": 2
}
